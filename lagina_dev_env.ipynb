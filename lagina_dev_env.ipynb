{
  "cells": [
    {
      "cell_type": "markdown",
      "id": "c56891bf",
      "metadata": {
        "id": "c56891bf",
        "tags": []
      },
      "source": [
        "<h3 style=\"text-align: right; direction: rtl; float: right; clear: both;\">חידת איסתרא\n",
        "</h3>\n",
        "<div>"
      ]
    },
    {
      "cell_type": "markdown",
      "id": "dJNTk691Dk0I",
      "metadata": {
        "id": "dJNTk691Dk0I"
      },
      "source": [
        "<p style=\"text-align: right; direction: rtl; float: right;\">\n",
        "שלום לכולם,<br> \n",
        "לפניכם חידת איסתרא מאי 2023<br>\n",
        "שימו לב להוראות הגשה ואופן קביעת הזכייה בתחרות בסוף המסמך\n",
        "<br>\n",
        "בהצלחה לכולם :) \n",
        " </div>"
      ]
    },
    {
      "cell_type": "markdown",
      "id": "ded2d975",
      "metadata": {
        "id": "ded2d975",
        "tags": []
      },
      "source": [
        "<div dir=\"rtl\" lang=\"he\" xml:lang=\"he\">\n",
        "<h4 style=\"text-align: right; direction: rtl; float: right; clear: both;\">  המשחק של מר לגינא - פיתוח אסטרטגיה לקבלת מקסימום רווח מובטח \n",
        "</h4>\n",
        "</div>"
      ]
    },
    {
      "cell_type": "markdown",
      "id": "7ac2adaf",
      "metadata": {
        "id": "7ac2adaf"
      },
      "source": [
        "<p style=\"text-align: right; direction: rtl; clear: both;\">\n",
        "במשחק הבא עליכם לכתוב אסטרטגיה שהרווח שלה במקרה הגרוע ביותר יהיה מקסימלי\n",
        "</p>\n",
        "<p style=\"text-align: right; direction: rtl; float: right; clear: both;\">\n",
        "לפניכם שני כדים (ממוספרים 1,2) ובכל אחד מהם יש בדיוק N כדורים. באחד מהכדים (לא ידוע איזה) ישנם בדיוק K כדורים ירוקים ושאר הכדורים אדומים ואילו בכד האחר ישנים בדיוק K כדורים אדומים ושאר הכדורים ירוקים.  <br> המשחק מתחיל כאשר נותנים לכם M אסימונים (ניתן להניח ש M > 10N)  ועליכם לבצע סדרה של 2N ניחושים.   בכל ניחוש אתם מחליטים על: \n",
        "     </p>\n",
        "<ul style=\"text-align: right; direction: rtl;\">\n",
        "    <li>הכד שמתוכו יוציא מר לגינא את הכדור הבא (מיוצג על ידי הערך is_first)</li>\n",
        "    <li>מספר אסימונים חיובי v שאינו גדול ממספר האסימונים שנצברו בידיכם עד כה</li>\n",
        "    <li>צבע הכדור (מיוצג על ידי הערך is_red)</li>\n",
        "</ul>        \n",
        "<p style=\"text-align: right; direction: rtl; float: right; clear: both;\"> אם צבעו של הכדור זהה לצבע שניחשתם תקבלו v אסימונים ממר לגינא, אחרת תאלצו להיפרד מ- v אסימונים ולהעבירם למר לגינא.   \n",
        " </p>\n",
        " <p style=\"text-align: right; direction: rtl; float: right; clear: both;\"> המשחק יסתיים כאשר יוצאו כל הכדורים משני הכדים או כאשר ייגמרו לכם האסימונים.   \n",
        " </p>"
      ]
    },
    {
      "cell_type": "markdown",
      "id": "8008bb92-e2f3-4577-9bac-e452e9cdca91",
      "metadata": {
        "id": "8008bb92-e2f3-4577-9bac-e452e9cdca91"
      },
      "source": [
        "<p style=\"text-align: right; direction: rtl; float: right; clear: both;\">\n",
        "      עליכם לכתוב פונקציית פייתון 3 (ייבדק על python 3.6.10 ) בשם bet אשר מקבלת כקלט את תקציר המשחק עד כה ואת כמות האסימונים שנותרה, ומחזירה את הניחוש כמתואר להלן:<br>\n",
        "</p>\n"
      ]
    },
    {
      "cell_type": "markdown",
      "id": "d66d3c74",
      "metadata": {
        "id": "d66d3c74"
      },
      "source": [
        "<div dir=\"rtl\" lang=\"he\" xml:lang=\"he\">\n",
        "<p style=\"text-align: right; direction: rtl; clear: both;\">    \n",
        "<h4>\n",
        "הנחיות לכתיבת הפתרון:\n",
        "</h4>\n",
        "<ul style=\"text-align: right; direction: rtl;\">\n",
        "  <li>עליכם לממש את הפונקציה bet:</li>\n",
        "</ul>\n",
        "</p>    \n",
        "</div>"
      ]
    },
    {
      "cell_type": "code",
      "execution_count": null,
      "id": "a26eaed1",
      "metadata": {
        "id": "a26eaed1"
      },
      "outputs": [],
      "source": [
        "# don't use  i m p o r t  in this file\n",
        "def bet(N,K,m,g1,r1,g2,r2):\n",
        "  \"\"\"\n",
        "      Returns a bet based on available tokens and balls fetched so far.\n",
        "      \n",
        "      Parameters\n",
        "      ----------------\n",
        "      N : int  - total number of balls in each urn\n",
        "      K : int  - number of red balls in one urn and green balls in the other urn\n",
        "      m : int  - left number of tokens\n",
        "      g1 : int - number of green balls fetched so far from first urn\n",
        "      r1 : int - number of red balls fetched so far from first urn\n",
        "      g2 : int - number of green balls fetched so far from second urn\n",
        "      r2 : int - number of red balls fetched so far from second urn\n",
        "  \n",
        "      Returns\n",
        "      -----------\n",
        "      (v, is_first, is_red) where:\n",
        "      v: int          - Number of tokens for the bet (1 <= v <= m)\n",
        "      is_first : bool - True if bet is on first urn and False otherwise \n",
        "      is_red : bool   - True if bet is on red ball and False otherwise                                                                                                                                             \n",
        "  \"\"\"\n",
        "    # את הפונקציה הזאת אתם צריכים לממש"
      ]
    },
    {
      "cell_type": "markdown",
      "id": "065ef935-84bd-4aa4-b55b-26599f7cf084",
      "metadata": {
        "id": "065ef935-84bd-4aa4-b55b-26599f7cf084"
      },
      "source": [
        "<div dir=\"rtl\" lang=\"he\" xml:lang=\"he\">\n",
        "<p style=\"text-align: right; direction: rtl; float: right; clear: both;\">\n",
        "    <ul style=\"text-align: right; direction: rtl; float: right;\">\n",
        "       <li>\n",
        "חתימת הפונקציה (שם הפונקציה, שמות הפרמטרים וסדרם)  חייבת להיות זהה להגדרה המופיעה לעיל.\n",
        "        </li>\n",
        "               <li>\n",
        "אפשר לכלול בקובץ פונקציות או מחלקות עזר אך ללא שימוש בספריות חיצוניות (import).\n",
        "        </li>\n",
        "          <li>\n",
        "ההימור שהפונקציה מחזירה חייב להיות חוקי (על כד שנותרו בו כדורים), אבל לא חייב להיות הגיוני (שימו לב שהפונקציה בדוגמא שבהמשך עלולה בהחלט להמר על צבע אדום כאשר ברור שכל הכדורים האדומים בכד כבר הוצאו).\n",
        "        </li>\n",
        "        <li>\n",
        "ניתן להניח שתקציר המשחק עד כה התקבל מקריאות קודמות לפונקציה זו ולכן אין צורך להתמודד עם מצבים שלא תגיעו אליהם. למשל אם האסטרטגיה בוחרת להוציא תמיד קודם מהכד הראשון היא לא חייבת להתמודד עם קלט שבו הוצאו כדורים קודם מן הכד השני.\n",
        "        </li>\n",
        "        <li>\n",
        "שימו לב שהאסטרטגיה נבחנת עפ\"י ביצועיה במקרה הגרוע ביותר - עבור ערכים קטנים של N מומלץ לבדוק את כל הסידורים האפשריים .\n",
        "        </li>\n",
        "        </ul>\n",
        "        </p>\n",
        "        </div>"
      ]
    },
    {
      "cell_type": "markdown",
      "id": "SavoEa94JM11",
      "metadata": {
        "id": "SavoEa94JM11"
      },
      "source": [
        "<p style=\"text-align: right; direction: rtl; float: right; clear: both;\">\n",
        "<h4 style=\"text-align: right; direction: rtl; \">\n",
        "דוגמא למימוש אפשרי:  \n",
        "</h4>\n",
        "</p>"
      ]
    },
    {
      "cell_type": "code",
      "execution_count": null,
      "id": "rlBcJIk_2q8q",
      "metadata": {
        "id": "rlBcJIk_2q8q"
      },
      "outputs": [],
      "source": [
        "# don't use  i m p o r t  in this file\n",
        "def bet(N,K,m,g1,r1,g2,r2):\n",
        "  \"\"\"\n",
        "      Returns a bet based on available tokens and balls fetched so far.\n",
        "      \n",
        "      Parameters\n",
        "      ----------------\n",
        "      N : int  - total number of balls in each urn\n",
        "      K : int  - number of red balls in one urn and green balls in the other urn\n",
        "      m : int  - left number of tokens\n",
        "      g1 : int - number of green balls fetched so far from first urn\n",
        "      r1 : int - number of red balls fetched so far from first urn\n",
        "      g2 : int - number of green balls fetched so far from second urn\n",
        "      r2 : int - number of red balls fetched so far from second urn\n",
        "  \n",
        "      Returns\n",
        "      -----------\n",
        "      (v, is_first, is_red) where:\n",
        "      v: int          - Number of tokens for the bet (1 <= v <= m)\n",
        "      is_first : bool - True if bet is on first urn and False otherwise \n",
        "      is_red : bool   - True if bet is on red ball and False otherwise                                                                                                                                             \n",
        "  \"\"\"\n",
        "  s=g1+r1+g2+r2\n",
        "  if s < N:\n",
        "    return (1, True, True) # Bet on 1 token that next ball from first urn will be red\n",
        "  elif s < 2*N-1:\n",
        "    return (1, False, True) # Bet on 1 token that next ball from second urn be red\n",
        "  else:\n",
        "    return(m, False, g2 == r1) # Choose red if g2==r1 and green otherwise; Bet on m tokens that next ball from second urn will be of the chosen color. \n"
      ]
    },
    {
      "cell_type": "markdown",
      "id": "Ikeunafm39kq",
      "metadata": {
        "id": "Ikeunafm39kq"
      },
      "source": [
        "<div dir=\"rtl\" lang=\"he\" xml:lang=\"he\">\n",
        "<h4 style=\"text-align: right; direction: rtl; \">\n",
        "סביבת הרצה:  \n",
        "</h4>\n",
        "</div>"
      ]
    },
    {
      "cell_type": "code",
      "execution_count": null,
      "id": "22b7279a-3418-4fa6-9e53-ddb117d66ab5",
      "metadata": {
        "id": "22b7279a-3418-4fa6-9e53-ddb117d66ab5"
      },
      "outputs": [],
      "source": [
        "#no problem to import when testing your code\n",
        "from importlib import reload \n",
        "import math\n",
        "import logging\n",
        "import itertools\n",
        "reload(logging)\n",
        "LEVEL = logging.INFO\n",
        "#LEVEL = logging.DEBUG\n",
        "\n",
        "logging.basicConfig(level=LEVEL, format=\"%(levelname)s - %(asctime)s - %(message)s\")\n",
        "\n",
        "class Game:\n",
        "    class Urn:\n",
        "        def __init__(self,n,red_balls):\n",
        "            self.size = n\n",
        "            self.red_balls = red_balls\n",
        "            self.next = 0\n",
        "            self.count = {True:0,False:0}\n",
        "\n",
        "        def get_next_ball(self):\n",
        "            assert self.next < self.size, \"out of range\"\n",
        "            is_red = self.next in self.red_balls\n",
        "            self.next += 1\n",
        "            self.count[is_red] += 1\n",
        "            return is_red\n",
        "\n",
        "    def __init__(self, total_tokens, N, K, red1, red2):\n",
        "        self.tokens = self.total_tokens = total_tokens\n",
        "        self.N = N\n",
        "        self.K = K\n",
        "        self.urn1 = self.Urn(N, red1)\n",
        "        self.urn2 = self.Urn(N, red2)\n",
        "        self.cur_iter = 0\n",
        "\n",
        "    def get_urn(self, is_first):\n",
        "        res_urn = self.urn1 if is_first else self.urn2\n",
        "        return res_urn\n",
        "\n",
        "    def get_ball(self, is_red, is_first, tokens):\n",
        "        cur_urn = self.get_urn(is_first)\n",
        "        assert tokens >=1 and tokens <= self.tokens , \"bad bet: tokens {} self.tokens {}\".format(tokens, self.tokens)\n",
        "        return cur_urn.get_next_ball()\n",
        "\n",
        "    def run(self):\n",
        "        logging.debug(\"Starting tokens={} N={} K={}\".format(self.tokens, self.N, self.K))\n",
        "        while self.cur_iter < 2*self.N and self.tokens > 0:\n",
        "            self.cur_iter += 1\n",
        "            bet_tokens, is_first, bet_is_red = bet(self.N, self.K, self.tokens,\n",
        "                                                   self.urn1.count[False], self.urn1.count[True],\n",
        "                                                   self.urn2.count[False], self.urn2.count[True])\n",
        "            cur_urn = self.get_urn(is_first)\n",
        "            result_is_red = self.get_ball(bet_is_red, is_first, bet_tokens)\n",
        "            bet_factor = 1 if result_is_red == bet_is_red else -1\n",
        "            self.tokens += bet_factor*bet_tokens\n",
        "            bet_urn=\"1\" if is_first else \"2\"\n",
        "            bet_color=\"r\" if bet_is_red else \"g\"\n",
        "            res=\"r\" if result_is_red else \"g\"\n",
        "            logging.debug(\"{:-3}: [{},{}],[{},{}] {}=>{} ({}) left: {}\".format(self.cur_iter,\n",
        "                                                                       self.urn1.count[False], self.urn1.count[True],\n",
        "                                                                       self.urn2.count[False], self.urn2.count[True],\n",
        "                                                                       bet_color + bet_urn, res + bet_urn, bet_tokens,\n",
        "                                                                       self.tokens))\n",
        "        logging.debug(\"Finished with {}\".format(self.tokens))\n",
        "        return self.tokens\n",
        "\n",
        "#Note that this function support small values of N as it runs over all combinations\n",
        "def get_worst_case(M, N, K):\n",
        "    assert N < 10, \"only small values of N are supported\"\n",
        "    min_val = math.inf\n",
        "    for sub1 in itertools.combinations(range(N),K):\n",
        "        for sub2 in itertools.combinations(range(N),N-K):\n",
        "            for pair in [(sub1,sub2), (sub2,sub1)]:\n",
        "                min_val = min(min_val, Game(M, N, K, pair[0], pair[1]).run())\n",
        "\n",
        "    logging.info(f\"M:{M}, N:{N}, K:{K} - {min_val}\")\n",
        "    return min_val\n",
        "\n",
        "\n",
        "get_worst_case(1000, 5, 3)\n"
      ]
    },
    {
      "cell_type": "markdown",
      "id": "14023961-35db-4e34-9302-2a3eacb06fd9",
      "metadata": {
        "id": "14023961-35db-4e34-9302-2a3eacb06fd9"
      },
      "source": [
        "<p style=\"text-align: right; direction: rtl; float: right; clear: both;\">\n",
        "<h4 style=\"text-align: right; direction: rtl; \">\n",
        "    הוראות הגשה:\n",
        "</h4>\n",
        "<ul style=\"text-align: right; direction: rtl;\">\n",
        "    <li>החידה מיועדת לסטודנטים בטכניון בלבד</li>\n",
        "    <li>את הפתרון יש לשלוח עד יום 23/05/2023 למייל: riddle@istraresearch.com</li>\n",
        "    <li>כותרת המייל: Subject: Full Name</li>\n",
        "    <li>בגוף המייל יש לציין שם מלא, מסלול לימודים ושנה</li>\n",
        "    <li>הקוד יצורף למייל בקובץ Your_Name.py אשר כולל פונקציה bet כמתואר. אפשר לכלול בקובץ פונקציות או מחלקות עזר אך\n",
        "        ללא שימוש בספריות חיצוניות (import).\n",
        "    </li>\n",
        "</ul>\n",
        "<h4 style=\"text-align: right; direction: rtl;\">\n",
        "    קביעת הזוכה בתחרות:\n",
        "</h4>\n",
        "<ul style=\"text-align: right; direction: rtl;\">\n",
        "    <li>לכל קוד יחושב ציון ע\"י תכנית בדיקה אשר תרוץ על מספר קלטים של הבעיה ובכל קלט (N,K,M) יחושב מספר האסימונים המינימלי שהאסטרטגיה השיגה כנגד מספר תרחישים . מספר האסימונים יחולק בחסם עליון המתאים לקלט הבעיה לקבלת ציון לכל קלט. הציון הכולל יחושב כסכום הציונים עבור כל הקלטים.</li>\n",
        "  <li>   קלטים קטנים ייבדקו כנגד כל התרחישים האפשריים ואילו קלטים גדולים ייבדקו גם כנגד אסטרטגית יריב (adversary) נגדית.</li>\n",
        "<li>  זמן הריצה לכל אסטרטגיה יוגבל, והציון ייחשב רק עבור קלטים שיספיקו לעמוד במגבלת הזמן. שגיאה בריצה כלשהיא תגרום לציון 0 עבור הקלט בו קרתה השגיאה.</li>\n",
        "\n",
        "  \n",
        "  <li>במידה ויהיו מספר פתרונות בעלי ציונים זהים תתבצע הגרלה ביניהם.</li>\n",
        "  <li>הכרזת הזוכה תתקיים ב 31/05/2023 - עקבו אחרינו- https://www.linkedin.com/company/istraresearch </li>\n",
        "  <li>הפתרון הטוב ביותר יזכה בפרס: אוזניות קשת ANC B5XM-1000WH Sony -Ear-Over </li>\n",
        "</ul>\n",
        "<p style=\"text-align: right; direction: rtl; float: right; clear: both;\">אם יש לכם שאלות בואו לפגוש אותנו ביום רביעי, 17.5, בין השעות 12:30-14:30 בלובי טאוב (קומת הכניסה)\n",
        "<br>\n",
        "החל מהשעה 13:00 נקיים הרצאה \"מבוא לאלגוטריידינג\" בטאוב 3 (קומה 0)\n",
        "</p>"
      ]
    }
  ],
  "metadata": {
    "colab": {
      "provenance": []
    },
    "kernelspec": {
      "display_name": "Python 3 (ipykernel)",
      "language": "python",
      "name": "python3"
    },
    "language_info": {
      "codemirror_mode": {
        "name": "ipython",
        "version": 3
      },
      "file_extension": ".py",
      "mimetype": "text/x-python",
      "name": "python",
      "nbconvert_exporter": "python",
      "pygments_lexer": "ipython3",
      "version": "3.10.0"
    }
  },
  "nbformat": 4,
  "nbformat_minor": 5
}